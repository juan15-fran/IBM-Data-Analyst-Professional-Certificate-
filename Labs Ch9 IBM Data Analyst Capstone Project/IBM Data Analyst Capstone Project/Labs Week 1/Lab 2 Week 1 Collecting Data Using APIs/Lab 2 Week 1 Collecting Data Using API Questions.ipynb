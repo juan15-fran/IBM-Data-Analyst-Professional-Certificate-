{
 "cells": [
  {
   "cell_type": "code",
   "execution_count": 1,
   "id": "a79caef0-22e6-4c10-b94c-e4afec489be8",
   "metadata": {
    "tags": []
   },
   "outputs": [],
   "source": [
    "import requests # you need this module to make an API call\n",
    "import pandas as pd "
   ]
  },
  {
   "cell_type": "code",
   "execution_count": 2,
   "id": "41fa735b-52d7-4f0f-845a-b3ea68338c79",
   "metadata": {
    "tags": []
   },
   "outputs": [],
   "source": [
    "api_url = \"http://api.open-notify.org/astros.json\" # this url gives use the astronaut data"
   ]
  },
  {
   "cell_type": "code",
   "execution_count": 3,
   "id": "856865b6-0959-404f-a42c-712152c816f5",
   "metadata": {
    "tags": []
   },
   "outputs": [],
   "source": [
    "response = requests.get(api_url) # Call the API using the get method and store the\n",
    "                                # output of the API call in a variable called response."
   ]
  },
  {
   "cell_type": "code",
   "execution_count": 4,
   "id": "d0759aa3-7d01-4a98-a26f-9cf9404a3ce0",
   "metadata": {
    "tags": []
   },
   "outputs": [],
   "source": [
    "if response.ok:             # if all is well() no errors, no network timeouts)\n",
    "    data = response.json()  # store the result in json format in a variable called data\n",
    "                            # the variable data is of type dictionary."
   ]
  },
  {
   "cell_type": "code",
   "execution_count": 5,
   "id": "c667fffe-724d-4305-aa70-0b1f7199dd1c",
   "metadata": {
    "tags": []
   },
   "outputs": [
    {
     "name": "stdout",
     "output_type": "stream",
     "text": [
      "{'message': 'success', 'people': [{'name': 'Jasmin Moghbeli', 'craft': 'ISS'}, {'name': 'Andreas Mogensen', 'craft': 'ISS'}, {'name': 'Satoshi Furukawa', 'craft': 'ISS'}, {'name': 'Konstantin Borisov', 'craft': 'ISS'}, {'name': 'Oleg Kononenko', 'craft': 'ISS'}, {'name': 'Nikolai Chub', 'craft': 'ISS'}, {'name': \"Loral O'Hara\", 'craft': 'ISS'}], 'number': 7}\n"
     ]
    }
   ],
   "source": [
    "print(data)   # print the data just to check the output or for debugging"
   ]
  },
  {
   "cell_type": "code",
   "execution_count": 6,
   "id": "8bc030df-e3ca-4ccf-9fe9-cbdfc1b53d65",
   "metadata": {
    "tags": []
   },
   "outputs": [
    {
     "name": "stdout",
     "output_type": "stream",
     "text": [
      "7\n"
     ]
    }
   ],
   "source": [
    "print(data.get('number'))"
   ]
  },
  {
   "cell_type": "code",
   "execution_count": 7,
   "id": "cf3064dd-6756-49c2-8185-1c66cf8c79ca",
   "metadata": {
    "tags": []
   },
   "outputs": [
    {
     "name": "stdout",
     "output_type": "stream",
     "text": [
      "There are 7 astronauts on ISS\n",
      "And their names are :\n",
      "Jasmin Moghbeli\n",
      "Andreas Mogensen\n",
      "Satoshi Furukawa\n",
      "Konstantin Borisov\n",
      "Oleg Kononenko\n",
      "Nikolai Chub\n",
      "Loral O'Hara\n"
     ]
    }
   ],
   "source": [
    "astronauts = data.get('people')\n",
    "print(\"There are {} astronauts on ISS\".format(len(astronauts)))\n",
    "print(\"And their names are :\")\n",
    "for astronaut in astronauts:\n",
    "    print(astronaut.get('name'))"
   ]
  },
  {
   "cell_type": "code",
   "execution_count": 8,
   "id": "b2783fb1-ca51-49a1-924d-03795579f57c",
   "metadata": {
    "tags": []
   },
   "outputs": [],
   "source": [
    "## Lab start\n",
    "#Import required libraries\n",
    "import pandas as pd\n",
    "import json"
   ]
  },
  {
   "cell_type": "code",
   "execution_count": 9,
   "id": "8713f7e0-f6ee-4b17-a6d5-7b35786d21b8",
   "metadata": {
    "tags": []
   },
   "outputs": [],
   "source": [
    "api_url_1=\"http://127.0.0.1:5000/data\"\n",
    "def get_number_of_jobs_T(technology):\n",
    "\n",
    "    #your code goes here\n",
    "    return technology,number_of_jobs"
   ]
  },
  {
   "cell_type": "code",
   "execution_count": 10,
   "id": "b3709593-ae07-4eac-baf9-863a7aa16b8e",
   "metadata": {
    "tags": []
   },
   "outputs": [
    {
     "ename": "NameError",
     "evalue": "name 'number_of_jobs' is not defined",
     "output_type": "error",
     "traceback": [
      "\u001b[0;31m---------------------------------------------------------------------------\u001b[0m",
      "\u001b[0;31mNameError\u001b[0m                                 Traceback (most recent call last)",
      "\u001b[0;32m/tmp/ipykernel_1170/1902359999.py\u001b[0m in \u001b[0;36m<module>\u001b[0;34m\u001b[0m\n\u001b[0;32m----> 1\u001b[0;31m \u001b[0mget_number_of_jobs_T\u001b[0m\u001b[0;34m(\u001b[0m\u001b[0;34m\"Python\"\u001b[0m\u001b[0;34m)\u001b[0m\u001b[0;34m\u001b[0m\u001b[0;34m\u001b[0m\u001b[0m\n\u001b[0m",
      "\u001b[0;32m/tmp/ipykernel_1170/1033064061.py\u001b[0m in \u001b[0;36mget_number_of_jobs_T\u001b[0;34m(technology)\u001b[0m\n\u001b[1;32m      3\u001b[0m \u001b[0;34m\u001b[0m\u001b[0m\n\u001b[1;32m      4\u001b[0m     \u001b[0;31m#your code goes here\u001b[0m\u001b[0;34m\u001b[0m\u001b[0;34m\u001b[0m\u001b[0;34m\u001b[0m\u001b[0m\n\u001b[0;32m----> 5\u001b[0;31m     \u001b[0;32mreturn\u001b[0m \u001b[0mtechnology\u001b[0m\u001b[0;34m,\u001b[0m\u001b[0mnumber_of_jobs\u001b[0m\u001b[0;34m\u001b[0m\u001b[0;34m\u001b[0m\u001b[0m\n\u001b[0m",
      "\u001b[0;31mNameError\u001b[0m: name 'number_of_jobs' is not defined"
     ]
    }
   ],
   "source": [
    "get_number_of_jobs_T(\"Python\")"
   ]
  },
  {
   "cell_type": "code",
   "execution_count": 11,
   "id": "e71fe54f-ce5c-4e2c-b7e1-864167fb7a3a",
   "metadata": {
    "tags": []
   },
   "outputs": [],
   "source": [
    "api_url=\"http://127.0.0.1:5000/data\"\n",
    "def get_number_of_jobs_T(technology):\n",
    "    url=\"https://cf-courses-data.s3.us.cloud-object-storage.appdomain.cloud/IBM-DA0321EN-SkillsNetwork/labs/module%201/Accessing%20Data%20Using%20APIs/jobs.json\"\n",
    "    data_1 = requests.get(url).json()\n",
    "    number_of_jobs = 0\n",
    "    i = 1\n",
    "    while i < len(data_1):\n",
    "        if technology in data_1[i]['Key Skills']:\n",
    "            number_of_jobs += 1\n",
    "        i+=1\n",
    "    return technology,number_of_jobs"
   ]
  },
  {
   "cell_type": "code",
   "execution_count": 12,
   "id": "d70e0484-76af-4df6-b7fb-7c8fdac416ea",
   "metadata": {
    "tags": []
   },
   "outputs": [
    {
     "data": {
      "text/plain": [
       "('Python', 1173)"
      ]
     },
     "execution_count": 12,
     "metadata": {},
     "output_type": "execute_result"
    }
   ],
   "source": [
    "get_number_of_jobs_T(\"Python\")\n"
   ]
  },
  {
   "cell_type": "code",
   "execution_count": 13,
   "id": "69d992a1-eedf-4975-ba0d-5f33db9f8032",
   "metadata": {
    "tags": []
   },
   "outputs": [],
   "source": [
    "def get_number_of_jobs_L(location):\n",
    "    url=\"https://cf-courses-data.s3.us.cloud-object-storage.appdomain.cloud/IBM-DA0321EN-SkillsNetwork/labs/module%201/Accessing%20Data%20Using%20APIs/jobs.json\"\n",
    "    data_1 = requests.get(url).json()\n",
    "    number_of_jobs = 0\n",
    "    i = 1\n",
    "    while i < len(data_1):\n",
    "        if location in data_1[i]['Location']:\n",
    "            number_of_jobs += 1\n",
    "        i+=1\n",
    "    #your coe goes here\n",
    "    return location,number_of_jobs"
   ]
  },
  {
   "cell_type": "code",
   "execution_count": 14,
   "id": "dc8ca3dc-bb73-400f-b4ba-3ab30901fd09",
   "metadata": {
    "tags": []
   },
   "outputs": [
    {
     "data": {
      "text/plain": [
       "('Los Angeles', 639)"
      ]
     },
     "execution_count": 14,
     "metadata": {},
     "output_type": "execute_result"
    }
   ],
   "source": [
    "get_number_of_jobs_L(location=\"Los Angeles\")"
   ]
  },
  {
   "cell_type": "code",
   "execution_count": 15,
   "id": "5d7e3b9b-0fe8-436d-9d49-43f39d77ea02",
   "metadata": {
    "tags": []
   },
   "outputs": [],
   "source": [
    "url=\"https://cf-courses-data.s3.us.cloud-object-storage.appdomain.cloud/IBM-DA0321EN-SkillsNetwork/labs/module%201/Accessing%20Data%20Using%20APIs/jobs.json\"\n",
    "data_1 = requests.get(url).json()"
   ]
  },
  {
   "cell_type": "code",
   "execution_count": 16,
   "id": "86612b48-071d-4374-8616-705fc4c79c71",
   "metadata": {
    "tags": []
   },
   "outputs": [],
   "source": [
    "l=set()\n",
    "for i in range(len(data_1)):    \n",
    "    l.add(data_1[i]['Location'])"
   ]
  },
  {
   "cell_type": "code",
   "execution_count": 17,
   "id": "226e5ee3-bf2f-430f-aba0-5f7b64c6977f",
   "metadata": {
    "tags": []
   },
   "outputs": [
    {
     "data": {
      "text/plain": [
       "['Houston',\n",
       " 'Baltimore',\n",
       " 'New York',\n",
       " 'Austin',\n",
       " 'Dallas',\n",
       " 'Philadelphia',\n",
       " 'Boston',\n",
       " 'Washington DC',\n",
       " 'Los Angeles',\n",
       " 'New Orleons',\n",
       " 'San Francisco',\n",
       " 'Detroit',\n",
       " 'Seattle']"
      ]
     },
     "execution_count": 17,
     "metadata": {},
     "output_type": "execute_result"
    }
   ],
   "source": [
    "#your code goes here\n",
    "job_location=list(l)\n",
    "job_location"
   ]
  },
  {
   "cell_type": "code",
   "execution_count": 18,
   "id": "e995f032-729b-49ad-90ca-2be65f40f96c",
   "metadata": {
    "tags": []
   },
   "outputs": [
    {
     "name": "stdout",
     "output_type": "stream",
     "text": [
      "Collecting openpyxl\n",
      "  Downloading openpyxl-3.1.2-py2.py3-none-any.whl (249 kB)\n",
      "\u001b[2K     \u001b[90m━━━━━━━━━━━━━━━━━━━━━━━━━━━━━━━━━━━━━━\u001b[0m \u001b[32m250.0/250.0 kB\u001b[0m \u001b[31m22.9 MB/s\u001b[0m eta \u001b[36m0:00:00\u001b[0m\n",
      "\u001b[?25hCollecting et-xmlfile (from openpyxl)\n",
      "  Downloading et_xmlfile-1.1.0-py3-none-any.whl (4.7 kB)\n",
      "Installing collected packages: et-xmlfile, openpyxl\n",
      "Successfully installed et-xmlfile-1.1.0 openpyxl-3.1.2\n"
     ]
    }
   ],
   "source": [
    "# your code goes here \n",
    "! pip install openpyxl\n",
    "from openpyxl import Workbook"
   ]
  },
  {
   "cell_type": "code",
   "execution_count": 19,
   "id": "c9dd67d4-afaf-4a42-910b-912aa41a411a",
   "metadata": {
    "tags": []
   },
   "outputs": [],
   "source": [
    "wb=Workbook()\n",
    "wsheet = wb.active"
   ]
  },
  {
   "cell_type": "code",
   "execution_count": 20,
   "id": "6d2a047a-f630-4a06-88d3-ea1fde249016",
   "metadata": {
    "tags": []
   },
   "outputs": [],
   "source": [
    "#your code goes here\n",
    "#wsheet.append(['Location','Number_of_Jobs'])\n",
    "\n",
    "#for i in job_location:\n",
    " #   wsheet.append(get_number_of_jobs_L(i))\n",
    "\n",
    "technologies_list=['C','C#','C++','Java','JavaScript','Python','Scala','Oracle','SQL Server','MySQL Server','PostgreSQL','MongoDB']\n",
    "wsheet.append(['Key Skills','Number_of_Jobs'])\n",
    "\n",
    "for i in technologies_list:\n",
    "    wsheet.append(get_number_of_jobs_T(i))\n",
    "    \n"
   ]
  },
  {
   "cell_type": "code",
   "execution_count": 21,
   "id": "6ef3ca62-cf80-45ad-b1ea-64488074b61f",
   "metadata": {
    "tags": []
   },
   "outputs": [],
   "source": [
    "#your code goes here\n",
    "wb.save(\"job-postings.xlsx\")"
   ]
  },
  {
   "cell_type": "code",
   "execution_count": 22,
   "id": "7ed9e135-c4c9-487a-a32f-32c84438c1b9",
   "metadata": {
    "tags": []
   },
   "outputs": [
    {
     "data": {
      "text/html": [
       "<div>\n",
       "<style scoped>\n",
       "    .dataframe tbody tr th:only-of-type {\n",
       "        vertical-align: middle;\n",
       "    }\n",
       "\n",
       "    .dataframe tbody tr th {\n",
       "        vertical-align: top;\n",
       "    }\n",
       "\n",
       "    .dataframe thead th {\n",
       "        text-align: right;\n",
       "    }\n",
       "</style>\n",
       "<table border=\"1\" class=\"dataframe\">\n",
       "  <thead>\n",
       "    <tr style=\"text-align: right;\">\n",
       "      <th></th>\n",
       "      <th>Key Skills</th>\n",
       "      <th>Number_of_Jobs</th>\n",
       "    </tr>\n",
       "  </thead>\n",
       "  <tbody>\n",
       "    <tr>\n",
       "      <th>0</th>\n",
       "      <td>C</td>\n",
       "      <td>13498</td>\n",
       "    </tr>\n",
       "    <tr>\n",
       "      <th>1</th>\n",
       "      <td>C#</td>\n",
       "      <td>333</td>\n",
       "    </tr>\n",
       "    <tr>\n",
       "      <th>2</th>\n",
       "      <td>C++</td>\n",
       "      <td>305</td>\n",
       "    </tr>\n",
       "    <tr>\n",
       "      <th>3</th>\n",
       "      <td>Java</td>\n",
       "      <td>2609</td>\n",
       "    </tr>\n",
       "    <tr>\n",
       "      <th>4</th>\n",
       "      <td>JavaScript</td>\n",
       "      <td>355</td>\n",
       "    </tr>\n",
       "    <tr>\n",
       "      <th>5</th>\n",
       "      <td>Python</td>\n",
       "      <td>1173</td>\n",
       "    </tr>\n",
       "    <tr>\n",
       "      <th>6</th>\n",
       "      <td>Scala</td>\n",
       "      <td>33</td>\n",
       "    </tr>\n",
       "    <tr>\n",
       "      <th>7</th>\n",
       "      <td>Oracle</td>\n",
       "      <td>784</td>\n",
       "    </tr>\n",
       "    <tr>\n",
       "      <th>8</th>\n",
       "      <td>SQL Server</td>\n",
       "      <td>250</td>\n",
       "    </tr>\n",
       "    <tr>\n",
       "      <th>9</th>\n",
       "      <td>MySQL Server</td>\n",
       "      <td>0</td>\n",
       "    </tr>\n",
       "    <tr>\n",
       "      <th>10</th>\n",
       "      <td>PostgreSQL</td>\n",
       "      <td>10</td>\n",
       "    </tr>\n",
       "    <tr>\n",
       "      <th>11</th>\n",
       "      <td>MongoDB</td>\n",
       "      <td>174</td>\n",
       "    </tr>\n",
       "  </tbody>\n",
       "</table>\n",
       "</div>"
      ],
      "text/plain": [
       "      Key Skills  Number_of_Jobs\n",
       "0              C           13498\n",
       "1             C#             333\n",
       "2            C++             305\n",
       "3           Java            2609\n",
       "4     JavaScript             355\n",
       "5         Python            1173\n",
       "6          Scala              33\n",
       "7         Oracle             784\n",
       "8     SQL Server             250\n",
       "9   MySQL Server               0\n",
       "10    PostgreSQL              10\n",
       "11       MongoDB             174"
      ]
     },
     "execution_count": 22,
     "metadata": {},
     "output_type": "execute_result"
    }
   ],
   "source": [
    "# your code goes here\n",
    "job_postings = pd.read_excel(\"job-postings.xlsx\")\n",
    "job_postings"
   ]
  },
  {
   "cell_type": "code",
   "execution_count": 32,
   "id": "2b55892d-b4f0-4991-ac5c-26a839a33524",
   "metadata": {
    "tags": []
   },
   "outputs": [
    {
     "data": {
      "text/html": [
       "<div>\n",
       "<style scoped>\n",
       "    .dataframe tbody tr th:only-of-type {\n",
       "        vertical-align: middle;\n",
       "    }\n",
       "\n",
       "    .dataframe tbody tr th {\n",
       "        vertical-align: top;\n",
       "    }\n",
       "\n",
       "    .dataframe thead th {\n",
       "        text-align: right;\n",
       "    }\n",
       "</style>\n",
       "<table border=\"1\" class=\"dataframe\">\n",
       "  <thead>\n",
       "    <tr style=\"text-align: right;\">\n",
       "      <th></th>\n",
       "      <th>Number_of_Jobs</th>\n",
       "    </tr>\n",
       "    <tr>\n",
       "      <th>Key Skills</th>\n",
       "      <th></th>\n",
       "    </tr>\n",
       "  </thead>\n",
       "  <tbody>\n",
       "    <tr>\n",
       "      <th>C</th>\n",
       "      <td>13498</td>\n",
       "    </tr>\n",
       "    <tr>\n",
       "      <th>C#</th>\n",
       "      <td>333</td>\n",
       "    </tr>\n",
       "    <tr>\n",
       "      <th>C++</th>\n",
       "      <td>305</td>\n",
       "    </tr>\n",
       "    <tr>\n",
       "      <th>Java</th>\n",
       "      <td>2609</td>\n",
       "    </tr>\n",
       "    <tr>\n",
       "      <th>JavaScript</th>\n",
       "      <td>355</td>\n",
       "    </tr>\n",
       "    <tr>\n",
       "      <th>Python</th>\n",
       "      <td>1173</td>\n",
       "    </tr>\n",
       "    <tr>\n",
       "      <th>Scala</th>\n",
       "      <td>33</td>\n",
       "    </tr>\n",
       "    <tr>\n",
       "      <th>Oracle</th>\n",
       "      <td>784</td>\n",
       "    </tr>\n",
       "    <tr>\n",
       "      <th>SQL Server</th>\n",
       "      <td>250</td>\n",
       "    </tr>\n",
       "    <tr>\n",
       "      <th>MySQL Server</th>\n",
       "      <td>0</td>\n",
       "    </tr>\n",
       "    <tr>\n",
       "      <th>PostgreSQL</th>\n",
       "      <td>10</td>\n",
       "    </tr>\n",
       "    <tr>\n",
       "      <th>MongoDB</th>\n",
       "      <td>174</td>\n",
       "    </tr>\n",
       "  </tbody>\n",
       "</table>\n",
       "</div>"
      ],
      "text/plain": [
       "              Number_of_Jobs\n",
       "Key Skills                  \n",
       "C                      13498\n",
       "C#                       333\n",
       "C++                      305\n",
       "Java                    2609\n",
       "JavaScript               355\n",
       "Python                  1173\n",
       "Scala                     33\n",
       "Oracle                   784\n",
       "SQL Server               250\n",
       "MySQL Server               0\n",
       "PostgreSQL                10\n",
       "MongoDB                  174"
      ]
     },
     "execution_count": 32,
     "metadata": {},
     "output_type": "execute_result"
    }
   ],
   "source": [
    "job_postings_key_skills = pd.read_excel(\"job-postings.xlsx\",index_col= \"Key Skills\" )\n",
    "job_postings_key_skills"
   ]
  },
  {
   "cell_type": "code",
   "execution_count": 33,
   "id": "579fb656-eb88-4d55-8c6d-07e9605e0aba",
   "metadata": {
    "tags": []
   },
   "outputs": [],
   "source": [
    "import matplotlib as mpl\n",
    "import matplotlib.pyplot as plt"
   ]
  },
  {
   "cell_type": "code",
   "execution_count": 37,
   "id": "9baa912b-639d-4c9b-b52e-44e954a0cfff",
   "metadata": {
    "tags": []
   },
   "outputs": [
    {
     "data": {
      "image/png": "[encoded data removed]",
      "text/plain": [
       "<Figure size 640x480 with 1 Axes>"
      ]
     },
     "metadata": {},
     "output_type": "display_data"
    }
   ],
   "source": [
    "job_postings_key_skills.plot(kind='barh')\n",
    "plt.title('Job postings descending order')\n",
    "plt.xlabel('Number of Job postings')\n",
    "plt.ylabel('Job postings')\n",
    "plt.show()"
   ]
  },
  {
   "cell_type": "code",
   "execution_count": 62,
   "id": "cbece204-3f17-41c3-b422-e5c9f0818480",
   "metadata": {
    "tags": []
   },
   "outputs": [],
   "source": [
    "# sort data in descending order before plot\n",
    "job_postings_key_skills_descending = job_postings_key_skills.sort_values(by=['Number_of_Jobs'], ascending=True, inplace=False)\n"
   ]
  },
  {
   "cell_type": "code",
   "execution_count": 63,
   "id": "83f8b329-2173-4618-be56-c03f714f9751",
   "metadata": {
    "tags": []
   },
   "outputs": [
    {
     "data": {
      "image/png": "[encoded data removed]",
      "text/plain": [
       "<Figure size 640x480 with 1 Axes>"
      ]
     },
     "metadata": {},
     "output_type": "display_data"
    }
   ],
   "source": [
    "# plot\n",
    "job_postings_key_skills_descending.plot(kind='barh')\n",
    "plt.title('Job postings descending order')\n",
    "plt.xlabel('Number of Job postings')\n",
    "plt.ylabel('Job postings')\n",
    "plt.show()"
   ]
  },
  {
   "cell_type": "code",
   "execution_count": null,
   "id": "951caa47-2faa-44f8-ae76-2dfb1bc479a1",
   "metadata": {},
   "outputs": [],
   "source": []
  }
 ],
 "metadata": {
  "kernelspec": {
   "display_name": "Python",
   "language": "python",
   "name": "conda-env-python-py"
  },
  "language_info": {
   "codemirror_mode": {
    "name": "ipython",
    "version": 3
   },
   "file_extension": ".py",
   "mimetype": "text/x-python",
   "name": "python",
   "nbconvert_exporter": "python",
   "pygments_lexer": "ipython3",
   "version": "3.7.12"
  }
 },
 "nbformat": 4,
 "nbformat_minor": 5
}
